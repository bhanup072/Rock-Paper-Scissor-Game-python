{
 "cells": [
  {
   "cell_type": "code",
   "execution_count": 1,
   "id": "a9de9fe2",
   "metadata": {},
   "outputs": [],
   "source": [
    "from tkinter import *\n",
    "import random\n"
   ]
  },
  {
   "cell_type": "code",
   "execution_count": 2,
   "id": "94980a36",
   "metadata": {},
   "outputs": [],
   "source": [
    "root = Tk()\n",
    "root.geometry('400x400')\n",
    "root.resizable(0,0)\n",
    "root.title('Rock Paper Scissors Game')\n",
    "root.config(bg = '#FF7F50')"
   ]
  },
  {
   "cell_type": "code",
   "execution_count": 3,
   "id": "00edb70c",
   "metadata": {},
   "outputs": [],
   "source": [
    "Label (root,text = 'Rock Paper Scissors Game', font='arial 20 bold', bg = '#FF7F50').pack()"
   ]
  },
  {
   "cell_type": "code",
   "execution_count": 4,
   "id": "6dc82c06",
   "metadata": {},
   "outputs": [],
   "source": [
    "# for user choice\n",
    "user_take = StringVar()\n",
    "Label(root, text = 'choose any one: rock, paper ,scissors' , font='arial 15 bold', bg = 'seashell2').place(x = 20,y=70)\n",
    "Entry(root, font = 'arial 15', textvariable = user_take , bg = 'antiquewhite2').place(x=90 , y = 130)"
   ]
  },
  {
   "cell_type": "code",
   "execution_count": 5,
   "id": "e78a9071",
   "metadata": {},
   "outputs": [],
   "source": [
    "#for computer choice\n",
    "comp_pick = random.randint(1,3)\n",
    "if comp_pick == 1:\n",
    "    comp_pick = \"rock\"\n",
    "elif comp_pick == 2:\n",
    "    comp_pick = 'paper'\n",
    "else:\n",
    "    comp_pick = 'scissors'"
   ]
  },
  {
   "cell_type": "code",
   "execution_count": 6,
   "id": "1dcb5c2b",
   "metadata": {},
   "outputs": [],
   "source": [
    "Result = StringVar()\n",
    "def play():\n",
    "    user_pick = user_take.get()\n",
    "    if user_pick == comp_pick:\n",
    "        Result.set('tie,you both select same')\n",
    "    elif user_pick == 'rock' and comp_pick == 'paper':\n",
    "        Result.set('you loose,computer select paper')\n",
    "    elif user_pick == 'rock' and comp_pick == 'scissors':\n",
    "        Result.set('you win,computer select scissors')\n",
    "    elif user_pick == 'paper' and comp_pick == 'scissors':\n",
    "        Result.set('you loose,computer select scissors')\n",
    "    elif user_pick == 'paper' and comp_pick == 'rock':\n",
    "        Result.set('you win,computer select rock')\n",
    "    elif user_pick == 'scissors' and comp_pick == 'rock':\n",
    "        Result.set('you loose,computer select rock')\n",
    "    elif user_pick == 'scissors' and comp_pick == 'paper':\n",
    "        Result.set('you win ,computer select paper')\n",
    "    else:\n",
    "        Result.set('invalid: choose any one -- rock, paper, scissors')"
   ]
  },
  {
   "cell_type": "code",
   "execution_count": 7,
   "id": "8fac8557",
   "metadata": {},
   "outputs": [],
   "source": [
    "def Reset():\n",
    "    Result.set(\"\") \n",
    "    user_take.set(\"\")"
   ]
  },
  {
   "cell_type": "code",
   "execution_count": 8,
   "id": "9a889d0b",
   "metadata": {},
   "outputs": [],
   "source": [
    "def Exit():\n",
    "    root.destroy()"
   ]
  },
  {
   "cell_type": "code",
   "execution_count": 9,
   "id": "d8ddcd5b",
   "metadata": {},
   "outputs": [],
   "source": [
    "Entry(root, font = 'arial 10 bold', textvariable = Result, bg ='antiquewhite2',width = 50,).place(x=25, y = 250)\n",
    "\n",
    "Button(root, font = 'arial 13 bold', text = 'PLAY'  ,padx =5,bg ='seashell4' ,command = play).place(x=150,y=190)\n",
    "\n",
    "Button(root, font = 'arial 13 bold', text = 'RESET'  ,padx =5,bg ='seashell4' ,command = Reset).place(x=70,y=310)\n",
    "\n",
    "Button(root, font = 'arial 13 bold', text = 'EXIT'  ,padx =5,bg ='seashell4' ,command = Exit).place(x=230,y=310)\n",
    "\n",
    "\n",
    "root.mainloop()"
   ]
  },
  {
   "cell_type": "code",
   "execution_count": null,
   "id": "f354b6d1",
   "metadata": {},
   "outputs": [],
   "source": []
  }
 ],
 "metadata": {
  "kernelspec": {
   "display_name": "Python 3 (ipykernel)",
   "language": "python",
   "name": "python3"
  },
  "language_info": {
   "codemirror_mode": {
    "name": "ipython",
    "version": 3
   },
   "file_extension": ".py",
   "mimetype": "text/x-python",
   "name": "python",
   "nbconvert_exporter": "python",
   "pygments_lexer": "ipython3",
   "version": "3.11.3"
  }
 },
 "nbformat": 4,
 "nbformat_minor": 5
}
